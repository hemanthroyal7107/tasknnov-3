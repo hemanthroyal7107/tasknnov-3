{
 "cells": [
  {
   "cell_type": "markdown",
   "id": "9762675a",
   "metadata": {},
   "source": [
    "# 18.Create a function that counts the integer's number of digits."
   ]
  },
  {
   "cell_type": "code",
   "execution_count": 7,
   "id": "2ce591b0",
   "metadata": {},
   "outputs": [
    {
     "name": "stdout",
     "output_type": "stream",
     "text": [
      "Enter an integer: 246\n",
      "The number of digits is: 3\n"
     ]
    }
   ],
   "source": [
    "number = int(input(\"Enter an integer: \"))\n",
    "count = 0 \n",
    "while number != 0:\n",
    "    count += 1\n",
    "    number //= 10\n",
    "print(\"The number of digits is:\", count)"
   ]
  },
  {
   "cell_type": "code",
   "execution_count": 8,
   "id": "91c134cc",
   "metadata": {},
   "outputs": [
    {
     "name": "stdout",
     "output_type": "stream",
     "text": [
      "Enter an integer: 246\n",
      "Number of digits: 3\n"
     ]
    }
   ],
   "source": [
    "number = int(input(\"Enter an integer: \"))\n",
    "count = 0\n",
    "for i in range(1, len(str(number)) + 1):\n",
    "    count +=1\n",
    "print(\"Number of digits:\", count)"
   ]
  },
  {
   "cell_type": "markdown",
   "id": "3cd642ad",
   "metadata": {},
   "source": [
    "# 19. Create a function that performs an even-odd transform to a list, n times. Each even-odd transformation:\n",
    "\n",
    " 1.Adds two (+2) to each odd integer.\n",
    " 2.Subtracts two (-2) from each even integer."
   ]
  },
  {
   "cell_type": "code",
   "execution_count": 13,
   "id": "e95716a1",
   "metadata": {},
   "outputs": [
    {
     "name": "stdout",
     "output_type": "stream",
     "text": [
      "[3, 0, 5]\n"
     ]
    }
   ],
   "source": [
    "lst1 = [1, 2, 3]\n",
    "n =1\n",
    "while n> 0:\n",
    "    for i in range(len(lst1)):\n",
    "        if lst1[i] % 2 == 0:\n",
    "           lst1[i] -= 2\n",
    "        else:\n",
    "           lst1[i] +=2\n",
    "    n -= 1\n",
    "print(lst1)\n",
    "        "
   ]
  },
  {
   "cell_type": "code",
   "execution_count": 16,
   "id": "00229b44",
   "metadata": {},
   "outputs": [
    {
     "name": "stdout",
     "output_type": "stream",
     "text": [
      "[3, 0, 5]\n"
     ]
    }
   ],
   "source": [
    "lst2 = [1, 2, 3]\n",
    "n = 1\n",
    "for j in range(n):\n",
    "    for i in range(len(lst2)):\n",
    "        if lst2[i] % 2 == 0:\n",
    "            lst2[i] -= 2\n",
    "        else:\n",
    "            lst2[i] +=2\n",
    "print(lst2)"
   ]
  },
  {
   "cell_type": "markdown",
   "id": "ce2b3c79",
   "metadata": {},
   "source": [
    "# 20.Given a string containing unique letters, return a sorted string with the letters that don't appear in the string."
   ]
  },
  {
   "cell_type": "code",
   "execution_count": 20,
   "id": "310bbfec",
   "metadata": {},
   "outputs": [
    {
     "name": "stdout",
     "output_type": "stream",
     "text": [
      "abfgklmopqrtuvwxyz\n"
     ]
    }
   ],
   "source": [
    "string = \"cnhsjdie\"\n",
    "alphabet = \"abcdefghijklmnopqrstuvwxyz\"\n",
    "missing_letters = \"\"\n",
    "i = 0\n",
    "while i < len(alphabet):\n",
    "    if alphabet[i] not in string:\n",
    "        missing_letters += alphabet[i]\n",
    "    i += 1\n",
    "print(missing_letters)"
   ]
  },
  {
   "cell_type": "code",
   "execution_count": 23,
   "id": "d14df4a1",
   "metadata": {},
   "outputs": [
    {
     "name": "stdout",
     "output_type": "stream",
     "text": [
      "abfgklmopqrtuvwxyz\n"
     ]
    }
   ],
   "source": [
    "string = \"cnhsjdie\"\n",
    "alphabet = \"abcdefghijklmnopqrstuvwxyz\"\n",
    "missing_letters = \"\"\n",
    "sorted_missing_letters = \"\"\n",
    "for letter in alphabet:\n",
    "    if letter not in string:\n",
    "        missing_letters += letter\n",
    "print(missing_letters)"
   ]
  },
  {
   "cell_type": "markdown",
   "id": "c6b7ec3a",
   "metadata": {},
   "source": [
    "# 21.Create a function that takes a list of numbers and return \"Boom!\" if the digit 7 appears in the list. Otherwise, return \"there is no 7 in the list\"."
   ]
  },
  {
   "cell_type": "code",
   "execution_count": 25,
   "id": "843dc657",
   "metadata": {},
   "outputs": [
    {
     "name": "stdout",
     "output_type": "stream",
     "text": [
      "Boom!\n"
     ]
    }
   ],
   "source": [
    "numbers = [23, 56, 1, 89, 47]\n",
    "i = 0\n",
    "x = False\n",
    "while i < len(numbers):\n",
    "    if '7' in str(numbers[i]):\n",
    "        x = True\n",
    "        break\n",
    "    i += 1\n",
    "if x:\n",
    "    print(\"Boom!\")\n",
    "else:\n",
    "    print(\"There is no 7 in the list\")"
   ]
  },
  {
   "cell_type": "code",
   "execution_count": 26,
   "id": "8c588139",
   "metadata": {},
   "outputs": [
    {
     "name": "stdout",
     "output_type": "stream",
     "text": [
      "There is no 7 in the list\n"
     ]
    }
   ],
   "source": [
    "numbers = [12, 34, 5, 89]\n",
    "for num in numbers:\n",
    "    num_str = str(num)\n",
    "    for x in num_str:\n",
    "        if x == '7':\n",
    "            print(\"Boom\")\n",
    "            break\n",
    "else:\n",
    "    print(\"There is no 7 in the list\")"
   ]
  },
  {
   "cell_type": "markdown",
   "id": "f4691ecb",
   "metadata": {},
   "source": [
    "# 23.You are given one input: a list containing eight 1's and/or 0's. Write a function that takes an 8 bit binary number and converts it to decimal."
   ]
  },
  {
   "cell_type": "code",
   "execution_count": 2,
   "id": "3674f603",
   "metadata": {},
   "outputs": [
    {
     "name": "stdout",
     "output_type": "stream",
     "text": [
      "255\n"
     ]
    }
   ],
   "source": [
    "binary_list = [1, 1, 1, 1, 1, 1, 1, 1]\n",
    "decimal = 0\n",
    "power = 0\n",
    "x = len(binary_list) - 1\n",
    "while x >= 0:\n",
    "    decimal += binary_list[x] * (2 ** power)\n",
    "    power += 1\n",
    "    x -= 1\n",
    "print(decimal)"
   ]
  },
  {
   "cell_type": "code",
   "execution_count": 4,
   "id": "558882e4",
   "metadata": {},
   "outputs": [
    {
     "name": "stdout",
     "output_type": "stream",
     "text": [
      "255\n"
     ]
    }
   ],
   "source": [
    "binary = [1, 1, 1, 1, 1, 1, 1, 1]\n",
    "decimal = 0\n",
    "for bit in binary:\n",
    "    decimal = decimal * 2 + bit\n",
    "print(decimal)"
   ]
  },
  {
   "cell_type": "markdown",
   "id": "7f38a7a8",
   "metadata": {},
   "source": [
    "# 24.Write a function that finds the largest even number in a list. Return -1 if not found. The use of built-in functions max() and sorted() are prohibited."
   ]
  },
  {
   "cell_type": "code",
   "execution_count": 8,
   "id": "49f0bd22",
   "metadata": {},
   "outputs": [
    {
     "name": "stdout",
     "output_type": "stream",
     "text": [
      "6\n"
     ]
    }
   ],
   "source": [
    "lst = [2, 7, 5, 1, 6, 9]\n",
    "largest_even_num = -1\n",
    "i = 0\n",
    "while i < len(lst):\n",
    "     if lst[i] % 2 == 0 and lst[i] > largest_even_num:\n",
    "        largest_even_num = lst[i]\n",
    "     i += 1\n",
    "print(largest_even_num)\n",
    "    "
   ]
  },
  {
   "cell_type": "code",
   "execution_count": 11,
   "id": "9bd90108",
   "metadata": {},
   "outputs": [
    {
     "name": "stdout",
     "output_type": "stream",
     "text": [
      "6\n"
     ]
    }
   ],
   "source": [
    "lst = [2, 7, 5, 1, 6, 9]\n",
    "largest = -1\n",
    "for num in lst:\n",
    "    if num % 2 == 0 and num > largest:\n",
    "        largest = num\n",
    "print(largest)"
   ]
  },
  {
   "cell_type": "markdown",
   "id": "f0897a11",
   "metadata": {},
   "source": []
  },
  {
   "cell_type": "code",
   "execution_count": null,
   "id": "07b6638e",
   "metadata": {},
   "outputs": [],
   "source": []
  }
 ],
 "metadata": {
  "kernelspec": {
   "display_name": "Python 3 (ipykernel)",
   "language": "python",
   "name": "python3"
  },
  "language_info": {
   "codemirror_mode": {
    "name": "ipython",
    "version": 3
   },
   "file_extension": ".py",
   "mimetype": "text/x-python",
   "name": "python",
   "nbconvert_exporter": "python",
   "pygments_lexer": "ipython3",
   "version": "3.11.5"
  }
 },
 "nbformat": 4,
 "nbformat_minor": 5
}
